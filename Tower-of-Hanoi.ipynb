{
 "cells": [
  {
   "cell_type": "markdown",
   "metadata": {
    "graffitiCellId": "id_wzbr23x"
   },
   "source": [
    "### Problem Statement\n",
    "\n",
    "The Tower of Hanoi is a puzzle where we have three rods and `n` disks. The three rods are:\n",
    "    1. source\n",
    "    2. destination\n",
    "    3. auxiliary\n",
    "\n",
    "Initally, all the `n` disks are present on the source rod. The final objective of the puzzle is to move all disks from the source rod to the destination rod using the auxiliary rod. However, there are some rules according to which this has to be done:\n",
    "    1. Only one disk can be moved at a time.\n",
    "    2. A disk can be moved only if it is on the top of a rod.\n",
    "    3. No disk can be placed on the top of a smaller disk.\n",
    "    \n",
    "You will be given the number of disks `num_disks` as the input parameter. \n",
    "\n",
    "For example, if you have `num_disks = 3`, then the disks should be moved as follows:\n",
    "    \n",
    "        1. move disk from source to auxiliary\n",
    "        2. move disk from source to destination\n",
    "        3. move disk from auxiliary to destination\n",
    "        \n",
    "You must print these steps as follows:    \n",
    "\n",
    "        S A\n",
    "        S D\n",
    "        A D\n",
    "        \n",
    "Where S = source, D = destination, A = auxiliary\n"
   ]
  },
  {
   "cell_type": "code",
   "execution_count": 22,
   "metadata": {
    "graffitiCellId": "id_8tcr5o8",
    "pycharm": {
     "is_executing": false
    }
   },
   "outputs": [
    {
     "name": "stdout",
     "text": [
      "S A\nS D\nA D\n"
     ],
     "output_type": "stream"
    }
   ],
   "source": [
    "def tower_of_Hanoi(num_disks):\n",
    "    tower_of_Hanoi_soln(num_disks, 'S', 'A', 'D')\n",
    "    \n",
    "def tower_of_Hanoi_soln(num_disks, source, auxiliary, destination):\n",
    "    \"\"\"\n",
    "    :param: num_disks - number of disks\n",
    "    TODO: print the steps required to move all disks from source to destination\n",
    "    \"\"\"\n",
    "    \n",
    "    if num_disks == 0:\n",
    "        return\n",
    "    \n",
    "    if num_disks == 1:\n",
    "        print(source, destination)\n",
    "        return\n",
    "    \n",
    "    tower_of_Hanoi_soln(num_disks - 1, source, destination, auxiliary)\n",
    "    print(source, destination)\n",
    "\n",
    "    tower_of_Hanoi_soln(num_disks - 1, auxiliary, source, destination)\n",
    "    \n",
    "    \n",
    "tower_of_Hanoi(2)\n",
    "    "
   ]
  },
  {
   "cell_type": "markdown",
   "metadata": {
    "graffitiCellId": "id_rh9jy5w"
   },
   "source": [
    "<span class=\"graffiti-highlight graffiti-id_rh9jy5w-id_aaedpt9\"><i></i><button>Show Solution</button></span>"
   ]
  },
  {
   "cell_type": "markdown",
   "metadata": {
    "graffitiCellId": "id_6dm5twe"
   },
   "source": [
    "#### Compare your results with the following test cases\n",
    "* num_disks = 2\n",
    "\n",
    "        solution \n",
    "                S A\n",
    "                S D\n",
    "                A D\n",
    "                \n",
    "* num_disks = 3\n",
    "\n",
    "        solution \n",
    "                S D\n",
    "                S A\n",
    "                D A\n",
    "                S D\n",
    "                A S\n",
    "                A D\n",
    "                S D\n",
    "\n",
    "* num_disks = 4\n",
    "    \n",
    "        solution\n",
    "                S A\n",
    "                S D\n",
    "                A D\n",
    "                S A\n",
    "                D S\n",
    "                D A\n",
    "                S A\n",
    "                S D\n",
    "                A D\n",
    "                A S\n",
    "                D S\n",
    "                A D\n",
    "                S A\n",
    "                S D\n",
    "                A D"
   ]
  }
 ],
 "metadata": {
  "graffiti": {
   "firstAuthorId": "dev",
   "id": "id_at34t9a",
   "language": "EN"
  },
  "kernelspec": {
   "display_name": "Python 3",
   "language": "python",
   "name": "python3"
  },
  "language_info": {
   "codemirror_mode": {
    "name": "ipython",
    "version": 3
   },
   "file_extension": ".py",
   "mimetype": "text/x-python",
   "name": "python",
   "nbconvert_exporter": "python",
   "pygments_lexer": "ipython3",
   "version": "3.6.3"
  },
  "pycharm": {
   "stem_cell": {
    "cell_type": "raw",
    "source": [],
    "metadata": {
     "collapsed": false
    }
   }
  }
 },
 "nbformat": 4,
 "nbformat_minor": 2
}