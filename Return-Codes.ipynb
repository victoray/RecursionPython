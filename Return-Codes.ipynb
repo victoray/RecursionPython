{
 "cells": [
  {
   "cell_type": "markdown",
   "metadata": {
    "graffitiCellId": "id_1myd4mr"
   },
   "source": [
    "### Problem statement\n",
    "\n",
    "In an encryption system where ASCII lower case letters represent numbers in the pattern `a=1, b=2, c=3...` and so on, find out all the codes that are possible for a given input number. \n",
    "\n",
    "**Example 1**\n",
    "\n",
    "* `number = 123`\n",
    "* `codes_possible = [\"aw\", \"abc\", \"lc\"]`\n",
    "\n",
    "Explanation: The codes are for the following number:\n",
    "         \n",
    "* 1 . 23     = \"aw\"\n",
    "* 1 . 2 . 3  = \"abc\"\n",
    "* 12 . 3     = \"lc\"\n",
    "    \n",
    "\n",
    "**Example 2**  \n",
    "\n",
    "* `number = 145`\n",
    "* `codes_possible = [\"ade\", \"ne\"]`\n",
    "\n",
    "Return the codes in a list. The order of codes in the list is not important.\n",
    "\n",
    "*Note: you can assume that the input number will not contain any 0s*"
   ]
  },
  {
   "cell_type": "code",
   "execution_count": 188,
   "metadata": {
    "graffitiCellId": "id_v2stglr",
    "pycharm": {
     "is_executing": false
    }
   },
   "outputs": [],
   "source": [
    "\n",
    "def get_alphabet(num):\n",
    "    alpha = list('abcdefghijklmnopqrstuvwxyz')\n",
    "    return alpha[num-1]\n",
    "\n",
    "def all_codes(number):\n",
    "    if number == 0:\n",
    "        return [\"\"]\n",
    "    \n",
    "    # calculation for two right-most digits e.g. if number = 1123, this calculation is meant for 23\n",
    "    remainder = number % 100\n",
    "    output_100 = list()\n",
    "    if remainder <= 26 and number > 9 :\n",
    "        \n",
    "        # get all codes for the remaining number\n",
    "        output_100 = all_codes(number // 100)\n",
    "        \n",
    "        alphabet = get_alphabet(remainder)\n",
    "        print('alpha100', alphabet, remainder)\n",
    "        \n",
    "        for index, element in enumerate(output_100):\n",
    "            output_100[index] = element + alphabet\n",
    "        \n",
    "        print('output100', output_100)\n",
    "    \n",
    "    # calculation for right-most digit e.g. if number = 1123, this calculation is meant for 3\n",
    "    remainder = number % 10\n",
    "    \n",
    "    # get all codes for the remaining number\n",
    "    output_10 = all_codes(number // 10)\n",
    "    \n",
    "    alphabet = get_alphabet(remainder)\n",
    "    print('alpha10', alphabet, remainder)\n",
    "    for index, element in enumerate(output_10):\n",
    "        output_10[index] = element + alphabet\n",
    "        \n",
    "    print('output10', output_10)\n",
    "    output = list()\n",
    "    output.extend(output_100)\n",
    "    output.extend(output_10)\n",
    "    \n",
    "    print('output', output)\n",
    "    \n",
    "    return output\n",
    "    \n",
    "    "
   ]
  },
  {
   "cell_type": "markdown",
   "metadata": {
    "graffitiCellId": "id_q8i2zj9"
   },
   "source": [
    "<span class=\"graffiti-highlight graffiti-id_q8i2zj9-id_yrg0ir2\"><i></i><button>Show Solution</button></span>"
   ]
  },
  {
   "cell_type": "code",
   "execution_count": 189,
   "metadata": {
    "graffitiCellId": "id_byos91q",
    "pycharm": {
     "is_executing": false
    }
   },
   "outputs": [],
   "source": [
    "def test_function(test_case):\n",
    "    number = test_case[0]\n",
    "    solution = test_case[1]\n",
    "    \n",
    "    output = all_codes(number)\n",
    "    print(output)\n",
    "    output.sort()\n",
    "    solution.sort()\n",
    "    \n",
    "    if output == solution:\n",
    "        print(\"Pass\")\n",
    "    else:\n",
    "        print(\"Fail\")"
   ]
  },
  {
   "cell_type": "code",
   "execution_count": 190,
   "metadata": {
    "graffitiCellId": "id_l3o11vy",
    "pycharm": {
     "is_executing": false
    }
   },
   "outputs": [
    {
     "name": "stdout",
     "output_type": "stream",
     "text": [
      "alpha10 a 1\n",
      "output10 ['a']\n",
      "output ['a']\n",
      "alpha100 w 23\n",
      "output100 ['aw']\n",
      "alpha100 l 12\n",
      "output100 ['l']\n",
      "alpha10 a 1\n",
      "output10 ['a']\n",
      "output ['a']\n",
      "alpha10 b 2\n",
      "output10 ['ab']\n",
      "output ['l', 'ab']\n",
      "alpha10 c 3\n",
      "output10 ['lc', 'abc']\n",
      "output ['aw', 'lc', 'abc']\n",
      "['aw', 'lc', 'abc']\n",
      "Pass\n"
     ]
    }
   ],
   "source": [
    "number = 123\n",
    "solution = ['abc', 'aw', 'lc']\n",
    "test_case = [number, solution]\n",
    "test_function(test_case)"
   ]
  },
  {
   "cell_type": "code",
   "execution_count": 185,
   "metadata": {
    "graffitiCellId": "id_a5y5trj",
    "pycharm": {
     "is_executing": false
    }
   },
   "outputs": [
    {
     "name": "stdout",
     "output_type": "stream",
     "text": [
      "alpha100 n 14\n",
      "output100 ['n']\n",
      "alpha10 a 1\n",
      "output10 ['a']\n",
      "output ['a']\n",
      "alpha10 d 4\n",
      "output10 ['ad']\n",
      "output ['n', 'ad']\n",
      "alpha10 e 5\n",
      "output10 ['ne', 'ade']\n",
      "output ['ne', 'ade']\n",
      "['ne', 'ade']\n",
      "Pass\n"
     ]
    }
   ],
   "source": [
    "number = 145\n",
    "solution =  ['ade', 'ne']\n",
    "test_case = [number, solution]\n",
    "test_function(test_case)"
   ]
  },
  {
   "cell_type": "code",
   "execution_count": 186,
   "metadata": {
    "graffitiCellId": "id_ujafvah",
    "pycharm": {
     "is_executing": false
    }
   },
   "outputs": [
    {
     "name": "stdout",
     "output_type": "stream",
     "text": [
      "alpha10 a 1\n",
      "output10 ['a']\n",
      "output ['a']\n",
      "alpha100 n 14\n",
      "output100 ['an']\n",
      "alpha100 k 11\n",
      "output100 ['k']\n",
      "alpha10 a 1\n",
      "output10 ['a']\n",
      "output ['a']\n",
      "alpha10 a 1\n",
      "output10 ['aa']\n",
      "output ['k', 'aa']\n",
      "alpha10 d 4\n",
      "output10 ['kd', 'aad']\n",
      "output ['an', 'kd', 'aad']\n",
      "alpha10 e 5\n",
      "output10 ['ane', 'kde', 'aade']\n",
      "output ['ane', 'kde', 'aade']\n",
      "['ane', 'kde', 'aade']\n",
      "Pass\n"
     ]
    }
   ],
   "source": [
    "number = 1145\n",
    "solution =  ['aade', 'ane', 'kde']\n",
    "test_case = [number, solution]\n",
    "test_function(test_case)"
   ]
  },
  {
   "cell_type": "code",
   "execution_count": 187,
   "metadata": {
    "graffitiCellId": "id_6d1dxt9",
    "pycharm": {
     "is_executing": false
    }
   },
   "outputs": [
    {
     "name": "stdout",
     "output_type": "stream",
     "text": [
      "alpha10 d 4\n",
      "output10 ['d']\n",
      "output ['d']\n",
      "alpha10 e 5\n",
      "output10 ['de']\n",
      "output ['de']\n",
      "alpha10 d 4\n",
      "output10 ['ded']\n",
      "output ['ded']\n",
      "alpha10 e 5\n",
      "output10 ['dede']\n",
      "output ['dede']\n",
      "['dede']\n",
      "Pass\n"
     ]
    }
   ],
   "source": [
    "number = 4545\n",
    "solution = ['dede']\n",
    "test_case = [number, solution]\n",
    "test_function(test_case)"
   ]
  }
 ],
 "metadata": {
  "graffiti": {
   "firstAuthorId": "dev",
   "id": "id_kdfaoy8",
   "language": "EN"
  },
  "kernelspec": {
   "display_name": "Python 3",
   "language": "python",
   "name": "python3"
  },
  "language_info": {
   "codemirror_mode": {
    "name": "ipython",
    "version": 3
   },
   "file_extension": ".py",
   "mimetype": "text/x-python",
   "name": "python",
   "nbconvert_exporter": "python",
   "pygments_lexer": "ipython3",
   "version": "3.7.3"
  },
  "pycharm": {
   "stem_cell": {
    "cell_type": "raw",
    "metadata": {
     "collapsed": false
    },
    "source": []
   }
  }
 },
 "nbformat": 4,
 "nbformat_minor": 2
}
