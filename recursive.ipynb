{
 "cells": [
  {
   "cell_type": "code",
   "execution_count": null,
   "metadata": {
    "collapsed": true
   },
   "outputs": [],
   "source": []
  },
  {
   "cell_type": "code",
   "execution_count": 24,
   "outputs": [],
   "source": [
    "# Code\n",
    "\n",
    "import copy\n",
    "\n",
    "def permute(l):\n",
    "    \"\"\"\n",
    "    Return a list of permutations\n",
    "    \n",
    "    Examples:\n",
    "       permute([0, 1]) returns [ [0, 1], [1, 0] ]\n",
    "    \n",
    "    Args:\n",
    "      l(list): list of items to be permuted\n",
    "    \n",
    "    Returns:\n",
    "      list of permutation with each permuted item being represented by a list\n",
    "    \"\"\"\n",
    "    final = []\n",
    "    if len(l) == 0 or len(l) == 1:\n",
    "        final.append(l)\n",
    "        return final\n",
    "    \n",
    "    first = l[0]\n",
    "    print('first', first)\n",
    "    sub = permute(l[1:])\n",
    "    print('sub ', sub)\n",
    "    for p in sub:\n",
    "        print('p ', p)\n",
    "        for j in range(0, len(p) + 1):\n",
    "            r = copy.deepcopy(p)\n",
    "            r.insert(j, first)\n",
    "            print('r ', r)\n",
    "            final.append(r)\n",
    "    \n",
    "    print('final', final)\n",
    "    return final"
   ],
   "metadata": {
    "collapsed": false,
    "pycharm": {
     "name": "#%%\n",
     "is_executing": false
    }
   }
  },
  {
   "cell_type": "code",
   "execution_count": 25,
   "outputs": [
    {
     "name": "stdout",
     "text": [
      "Pass\nPass\nfirst 0\nsub  [[1]]\np  [1]\nr  [0, 1]\nr  [1, 0]\nfinal [[0, 1], [1, 0]]\nPass\nfirst 0\nfirst 1\nsub  [[2]]\np  [2]\nr  [1, 2]\nr  [2, 1]\nfinal [[1, 2], [2, 1]]\nsub  [[1, 2], [2, 1]]\np  [1, 2]\nr  [0, 1, 2]\nr  [1, 0, 2]\nr  [1, 2, 0]\np  [2, 1]\nr  [0, 2, 1]\nr  [2, 0, 1]\nr  [2, 1, 0]\nfinal [[0, 1, 2], [1, 0, 2], [1, 2, 0], [0, 2, 1], [2, 0, 1], [2, 1, 0]]\nPass\n"
     ],
     "output_type": "stream"
    }
   ],
   "source": [
    "# Test Cases \n",
    "\n",
    "# Helper Function\n",
    "def check_output(output, expected_output):\n",
    "    \"\"\"\n",
    "    Return True if output and expected_output\n",
    "    contains the same lists, False otherwise.\n",
    "    \n",
    "    Note that the ordering of the list is not important.\n",
    "    \n",
    "    Examples:\n",
    "        check_output([ [0, 1], [1, 0] ] ], [ [1, 0], [0, 1] ]) returns True\n",
    "\n",
    "    Args:\n",
    "        output(list): list of list\n",
    "        expected_output(list): list of list\n",
    "    \n",
    "    Returns:\n",
    "        bool\n",
    "    \"\"\"\n",
    "    o = copy.deepcopy(output)  # so that we don't mutate input\n",
    "    e = copy.deepcopy(expected_output)  # so that we don't mutate input\n",
    "    \n",
    "    o.sort()\n",
    "    e.sort()\n",
    "    return o == e\n",
    "\n",
    "print (\"Pass\" if  (check_output(permute([]), [[]])) else \"Fail\")\n",
    "print (\"Pass\" if  (check_output(permute([0]), [[0]])) else \"Fail\")\n",
    "print (\"Pass\" if  (check_output(permute([0, 1]), [[0, 1], [1, 0]])) else \"Fail\")\n",
    "print (\"Pass\" if  (check_output(permute([0, 1, 2]), [[0, 1, 2], [0, 2, 1], [1, 0, 2], [1, 2, 0], [2, 0, 1], [2, 1, 0]])) else \"Fail\")\n"
   ],
   "metadata": {
    "collapsed": false,
    "pycharm": {
     "name": "#%%\n",
     "is_executing": false
    }
   }
  }
 ],
 "metadata": {
  "language_info": {
   "codemirror_mode": {
    "name": "ipython",
    "version": 2
   },
   "file_extension": ".py",
   "mimetype": "text/x-python",
   "name": "python",
   "nbconvert_exporter": "python",
   "pygments_lexer": "ipython2",
   "version": "2.7.6"
  },
  "kernelspec": {
   "name": "pycharm-2eb2d174",
   "language": "python",
   "display_name": "PyCharm (DataModelling)"
  },
  "pycharm": {
   "stem_cell": {
    "cell_type": "raw",
    "source": [],
    "metadata": {
     "collapsed": false
    }
   }
  }
 },
 "nbformat": 4,
 "nbformat_minor": 0
}