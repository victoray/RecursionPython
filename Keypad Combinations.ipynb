{
 "cells": [
  {
   "cell_type": "markdown",
   "metadata": {
    "graffitiCellId": "id_twe5ety"
   },
   "source": [
    "## Keypad Combinations\n",
    "\n",
    "A keypad on a cellphone has alphabets for all numbers between 2 and 9. \n",
    "\n",
    "You can make different combinations of alphabets by pressing the numbers.\n",
    "\n",
    "For example, if you press 23, the following combinations are possible:\n",
    "\n",
    "`ad, ae, af, bd, be, bf, cd, ce, cf`\n",
    "\n",
    "Note that because 2 is pressed before 3, the first letter is always an alphabet on the number 2.\n",
    "Likewise, if the user types 32, the order would be\n",
    "\n",
    "`da, db, dc, ea, eb, ec, fa, fb, fc`\n",
    "\n",
    "\n",
    "Given an integer `num`, find out all the possible strings that can be made using digits of input `num`. \n",
    "Return these strings in a list. The order of strings in the list does not matter. However, as stated earlier, the order of letters in a particular string matters."
   ]
  },
  {
   "cell_type": "code",
   "execution_count": 60,
   "metadata": {
    "graffitiCellId": "id_ffyjq5w",
    "pycharm": {
     "is_executing": false
    }
   },
   "outputs": [],
   "source": [
    "def get_characters(num):\n",
    "    if num == 2:\n",
    "        return \"abc\"\n",
    "    elif num == 3:\n",
    "        return \"def\"\n",
    "    elif num == 4:\n",
    "        return \"ghi\"\n",
    "    elif num == 5:\n",
    "        return \"jkl\"\n",
    "    elif num == 6:\n",
    "        return \"mno\"\n",
    "    elif num == 7:\n",
    "        return \"pqrs\"\n",
    "    elif num == 8:\n",
    "        return \"tuv\"\n",
    "    elif num == 9:\n",
    "        return \"wxyz\"\n",
    "    else:\n",
    "        return \"\"\n",
    "\n",
    "\n",
    "def keypad(num):\n",
    "    \n",
    "    # TODO: Write your keypad solution here!\n",
    "    final = []\n",
    "    \n",
    "    # Return empty list if num == 0\n",
    "    if num == 0:\n",
    "        return [\"\"]\n",
    "    \n",
    "    # return a list of characters for a single number\n",
    "    if len(str(num)) == 1:\n",
    "        return [char for char in get_characters(num)]\n",
    "    \n",
    "    # convert the num entry to a list of chars\n",
    "    keys = list(str(num))\n",
    "    print(keys)\n",
    "    \n",
    "    #get the chars of the first key\n",
    "    first = keys[0]\n",
    "    first_chars = get_characters(int(first))\n",
    "    \n",
    "    # Recursively get a list of possible combinations\n",
    "    sub = keypad(int(''.join(keys[1:])))\n",
    "    print('sub', sub)\n",
    "    \n",
    "    # loop through the characters of the first key and bind them with different combinations of the next key\n",
    "    for key in first_chars:\n",
    "        print('key', key)\n",
    "        for item in sub:\n",
    "            j = key\n",
    "            j += item\n",
    "            print('j', j)\n",
    "            final.append(j)\n",
    "            \n",
    "    print('final', final)\n",
    "    # return the final list\n",
    "    return final\n"
   ]
  },
  {
   "cell_type": "code",
   "execution_count": 59,
   "metadata": {
    "graffitiCellId": "id_l66zrar",
    "pycharm": {
     "is_executing": false
    }
   },
   "outputs": [],
   "source": [
    "def test_keypad(input, expected_output):\n",
    "    if sorted(keypad(input)) == expected_output:\n",
    "        print(\"Yay. We got it right.\")\n",
    "    else:\n",
    "        print(\"Oops! That was incorrect.\")"
   ]
  },
  {
   "cell_type": "code",
   "execution_count": 61,
   "metadata": {
    "graffitiCellId": "id_vnyax73",
    "pycharm": {
     "is_executing": false
    }
   },
   "outputs": [
    {
     "name": "stdout",
     "text": [
      "Yay. We got it right.\n"
     ],
     "output_type": "stream"
    }
   ],
   "source": [
    "# Base case: list with empty string\n",
    "input = 0\n",
    "expected_output = [\"\"]\n",
    "test_keypad(input, expected_output)"
   ]
  },
  {
   "cell_type": "code",
   "execution_count": 62,
   "metadata": {
    "graffitiCellId": "id_458su6i",
    "pycharm": {
     "is_executing": false
    }
   },
   "outputs": [
    {
     "name": "stdout",
     "text": [
      "['2', '3']\nsub ['d', 'e', 'f']\nkey a\nj ad\nj ae\nj af\nkey b\nj bd\nj be\nj bf\nkey c\nj cd\nj ce\nj cf\nfinal ['ad', 'ae', 'af', 'bd', 'be', 'bf', 'cd', 'ce', 'cf']\nYay. We got it right.\n"
     ],
     "output_type": "stream"
    }
   ],
   "source": [
    "# Example case\n",
    "input = 23\n",
    "expected_output = sorted([\"ad\", \"ae\", \"af\", \"bd\", \"be\", \"bf\", \"cd\", \"ce\", \"cf\"])\n",
    "test_keypad(input, expected_output)"
   ]
  },
  {
   "cell_type": "code",
   "execution_count": 63,
   "metadata": {
    "graffitiCellId": "id_j04lazf",
    "pycharm": {
     "is_executing": false
    }
   },
   "outputs": [
    {
     "name": "stdout",
     "text": [
      "['3', '2']\nsub ['a', 'b', 'c']\nkey d\nj da\nj db\nj dc\nkey e\nj ea\nj eb\nj ec\nkey f\nj fa\nj fb\nj fc\nfinal ['da', 'db', 'dc', 'ea', 'eb', 'ec', 'fa', 'fb', 'fc']\nYay. We got it right.\n"
     ],
     "output_type": "stream"
    }
   ],
   "source": [
    "# Example case\n",
    "input = 32\n",
    "expected_output = sorted([\"da\", \"db\", \"dc\", \"ea\", \"eb\", \"ec\", \"fa\", \"fb\", \"fc\"])\n",
    "test_keypad(input, expected_output)"
   ]
  },
  {
   "cell_type": "code",
   "execution_count": 64,
   "metadata": {
    "graffitiCellId": "id_4ziwk7w",
    "pycharm": {
     "is_executing": false
    }
   },
   "outputs": [
    {
     "name": "stdout",
     "text": [
      "Yay. We got it right.\n"
     ],
     "output_type": "stream"
    }
   ],
   "source": [
    "# Example case\n",
    "input = 8\n",
    "expected_output = sorted([\"t\", \"u\", \"v\"])\n",
    "test_keypad(input, expected_output)"
   ]
  },
  {
   "cell_type": "code",
   "execution_count": 65,
   "metadata": {
    "graffitiCellId": "id_u7fe0h1",
    "pycharm": {
     "is_executing": false
    }
   },
   "outputs": [
    {
     "name": "stdout",
     "text": [
      "['3', '5', '4']\n['5', '4']\nsub ['g', 'h', 'i']\nkey j\nj jg\nj jh\nj ji\nkey k\nj kg\nj kh\nj ki\nkey l\nj lg\nj lh\nj li\nfinal ['jg', 'jh', 'ji', 'kg', 'kh', 'ki', 'lg', 'lh', 'li']\nsub ['jg', 'jh', 'ji', 'kg', 'kh', 'ki', 'lg', 'lh', 'li']\nkey d\nj djg\nj djh\nj dji\nj dkg\nj dkh\nj dki\nj dlg\nj dlh\nj dli\nkey e\nj ejg\nj ejh\nj eji\nj ekg\nj ekh\nj eki\nj elg\nj elh\nj eli\nkey f\nj fjg\nj fjh\nj fji\nj fkg\nj fkh\nj fki\nj flg\nj flh\nj fli\nfinal ['djg', 'djh', 'dji', 'dkg', 'dkh', 'dki', 'dlg', 'dlh', 'dli', 'ejg', 'ejh', 'eji', 'ekg', 'ekh', 'eki', 'elg', 'elh', 'eli', 'fjg', 'fjh', 'fji', 'fkg', 'fkh', 'fki', 'flg', 'flh', 'fli']\nYay. We got it right.\n"
     ],
     "output_type": "stream"
    }
   ],
   "source": [
    "input = 354\n",
    "expected_output = sorted([\"djg\", \"ejg\", \"fjg\", \"dkg\", \"ekg\", \"fkg\", \"dlg\", \"elg\", \"flg\", \"djh\", \"ejh\", \"fjh\", \"dkh\", \"ekh\", \"fkh\", \"dlh\", \"elh\", \"flh\", \"dji\", \"eji\", \"fji\", \"dki\", \"eki\", \"fki\", \"dli\", \"eli\", \"fli\"])\n",
    "test_keypad(input, expected_output)"
   ]
  },
  {
   "cell_type": "markdown",
   "metadata": {
    "graffitiCellId": "id_9ibtd5w"
   },
   "source": [
    "<span class=\"graffiti-highlight graffiti-id_9ibtd5w-id_haj1ksk\"><i></i><button>Show Solution</button></span>"
   ]
  }
 ],
 "metadata": {
  "graffiti": {
   "firstAuthorId": "10694620118",
   "id": "id_c01kx0l",
   "language": "EN"
  },
  "kernelspec": {
   "display_name": "Python 3",
   "language": "python",
   "name": "python3"
  },
  "language_info": {
   "codemirror_mode": {
    "name": "ipython",
    "version": 3
   },
   "file_extension": ".py",
   "mimetype": "text/x-python",
   "name": "python",
   "nbconvert_exporter": "python",
   "pygments_lexer": "ipython3",
   "version": "3.6.3"
  },
  "pycharm": {
   "stem_cell": {
    "cell_type": "raw",
    "source": [],
    "metadata": {
     "collapsed": false
    }
   }
  }
 },
 "nbformat": 4,
 "nbformat_minor": 2
}